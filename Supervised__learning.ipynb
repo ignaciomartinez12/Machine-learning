{
  "nbformat": 4,
  "nbformat_minor": 0,
  "metadata": {
    "colab": {
      "provenance": []
    },
    "kernelspec": {
      "name": "python3",
      "display_name": "Python 3"
    },
    "language_info": {
      "name": "python"
    },
    "gpuClass": "standard",
    "accelerator": "GPU"
  },
  "cells": [
    {
      "cell_type": "markdown",
      "source": [
        "#LOAD THE DATA"
      ],
      "metadata": {
        "id": "OGL0vDIpO6dm"
      }
    },
    {
      "cell_type": "code",
      "execution_count": null,
      "metadata": {
        "colab": {
          "base_uri": "https://localhost:8080/"
        },
        "id": "DGKEz15VOZHx",
        "outputId": "fdd48379-3051-43a1-9120-f5e650bdb1fe"
      },
      "outputs": [
        {
          "output_type": "stream",
          "name": "stdout",
          "text": [
            "--2022-12-13 18:43:03--  https://github.com/alan-flint/Richter-DrivenData/raw/master/input/test_values.csv\n",
            "Resolving github.com (github.com)... 20.205.243.166\n",
            "Connecting to github.com (github.com)|20.205.243.166|:443... connected.\n",
            "HTTP request sent, awaiting response... 302 Found\n",
            "Location: https://raw.githubusercontent.com/alan-flint/Richter-DrivenData/master/input/test_values.csv [following]\n",
            "--2022-12-13 18:43:04--  https://raw.githubusercontent.com/alan-flint/Richter-DrivenData/master/input/test_values.csv\n",
            "Resolving raw.githubusercontent.com (raw.githubusercontent.com)... 185.199.108.133, 185.199.109.133, 185.199.110.133, ...\n",
            "Connecting to raw.githubusercontent.com (raw.githubusercontent.com)|185.199.108.133|:443... connected.\n",
            "HTTP request sent, awaiting response... 200 OK\n",
            "Length: 7815385 (7.5M) [text/plain]\n",
            "Saving to: ‘test_values.csv’\n",
            "\n",
            "test_values.csv     100%[===================>]   7.45M  --.-KB/s    in 0.07s   \n",
            "\n",
            "2022-12-13 18:43:05 (104 MB/s) - ‘test_values.csv’ saved [7815385/7815385]\n",
            "\n",
            "--2022-12-13 18:43:05--  https://github.com/alan-flint/Richter-DrivenData/raw/master/input/submission_format.csv\n",
            "Resolving github.com (github.com)... 20.205.243.166\n",
            "Connecting to github.com (github.com)|20.205.243.166|:443... connected.\n",
            "HTTP request sent, awaiting response... 302 Found\n",
            "Location: https://raw.githubusercontent.com/alan-flint/Richter-DrivenData/master/input/submission_format.csv [following]\n",
            "--2022-12-13 18:43:05--  https://raw.githubusercontent.com/alan-flint/Richter-DrivenData/master/input/submission_format.csv\n",
            "Resolving raw.githubusercontent.com (raw.githubusercontent.com)... 185.199.108.133, 185.199.109.133, 185.199.110.133, ...\n",
            "Connecting to raw.githubusercontent.com (raw.githubusercontent.com)|185.199.108.133|:443... connected.\n",
            "HTTP request sent, awaiting response... 200 OK\n",
            "Length: 777012 (759K) [text/plain]\n",
            "Saving to: ‘submission_format.csv’\n",
            "\n",
            "submission_format.c 100%[===================>] 758.80K  --.-KB/s    in 0.006s  \n",
            "\n",
            "2022-12-13 18:43:06 (131 MB/s) - ‘submission_format.csv’ saved [777012/777012]\n",
            "\n",
            "--2022-12-13 18:43:06--  https://github.com/alan-flint/Richter-DrivenData/raw/master/input/train_values.csv\n",
            "Resolving github.com (github.com)... 20.205.243.166\n",
            "Connecting to github.com (github.com)|20.205.243.166|:443... connected.\n",
            "HTTP request sent, awaiting response... 302 Found\n",
            "Location: https://raw.githubusercontent.com/alan-flint/Richter-DrivenData/master/input/train_values.csv [following]\n",
            "--2022-12-13 18:43:06--  https://raw.githubusercontent.com/alan-flint/Richter-DrivenData/master/input/train_values.csv\n",
            "Resolving raw.githubusercontent.com (raw.githubusercontent.com)... 185.199.108.133, 185.199.109.133, 185.199.110.133, ...\n",
            "Connecting to raw.githubusercontent.com (raw.githubusercontent.com)|185.199.108.133|:443... connected.\n",
            "HTTP request sent, awaiting response... 200 OK\n",
            "Length: 23442727 (22M) [text/plain]\n",
            "Saving to: ‘train_values.csv’\n",
            "\n",
            "train_values.csv    100%[===================>]  22.36M  --.-KB/s    in 0.1s    \n",
            "\n",
            "2022-12-13 18:43:08 (175 MB/s) - ‘train_values.csv’ saved [23442727/23442727]\n",
            "\n",
            "--2022-12-13 18:43:08--  https://github.com/alan-flint/Richter-DrivenData/raw/master/input/train_labels.csv\n",
            "Resolving github.com (github.com)... 20.205.243.166\n",
            "Connecting to github.com (github.com)|20.205.243.166|:443... connected.\n",
            "HTTP request sent, awaiting response... 302 Found\n",
            "Location: https://raw.githubusercontent.com/alan-flint/Richter-DrivenData/master/input/train_labels.csv [following]\n",
            "--2022-12-13 18:43:09--  https://raw.githubusercontent.com/alan-flint/Richter-DrivenData/master/input/train_labels.csv\n",
            "Resolving raw.githubusercontent.com (raw.githubusercontent.com)... 185.199.108.133, 185.199.109.133, 185.199.110.133, ...\n",
            "Connecting to raw.githubusercontent.com (raw.githubusercontent.com)|185.199.108.133|:443... connected.\n",
            "HTTP request sent, awaiting response... 200 OK\n",
            "Length: 2330792 (2.2M) [text/plain]\n",
            "Saving to: ‘train_labels.csv’\n",
            "\n",
            "train_labels.csv    100%[===================>]   2.22M  --.-KB/s    in 0.02s   \n",
            "\n",
            "2022-12-13 18:43:11 (98.4 MB/s) - ‘train_labels.csv’ saved [2330792/2330792]\n",
            "\n"
          ]
        }
      ],
      "source": [
        "import pandas as pd\n",
        "!wget https://github.com/alan-flint/Richter-DrivenData/raw/master/input/test_values.csv\n",
        "!wget https://github.com/alan-flint/Richter-DrivenData/raw/master/input/submission_format.csv\n",
        "!wget https://github.com/alan-flint/Richter-DrivenData/raw/master/input/train_values.csv\n",
        "!wget https://github.com/alan-flint/Richter-DrivenData/raw/master/input/train_labels.csv\n",
        "df_train_labels = pd.read_csv(\"train_labels.csv\", index_col = \"building_id\")\n",
        "df_train_values= pd.read_csv(\"train_values.csv\", index_col = \"building_id\")\n",
        "submission_format = pd.read_csv('submission_format.csv', index_col='building_id')\n",
        "df = pd.read_csv(\"test_values.csv\", index_col = 'building_id')\n",
        "dff = df_train_values.join(df_train_labels)"
      ]
    },
    {
      "cell_type": "code",
      "source": [
        "dff.dtypes"
      ],
      "metadata": {
        "colab": {
          "base_uri": "https://localhost:8080/"
        },
        "id": "OGQAXr4RhCoK",
        "outputId": "691dfa7a-72a9-4686-e513-dda131db0f13"
      },
      "execution_count": null,
      "outputs": [
        {
          "output_type": "execute_result",
          "data": {
            "text/plain": [
              "geo_level_1_id                             int64\n",
              "geo_level_2_id                             int64\n",
              "geo_level_3_id                             int64\n",
              "count_floors_pre_eq                        int64\n",
              "age                                        int64\n",
              "area_percentage                            int64\n",
              "height_percentage                          int64\n",
              "land_surface_condition                    object\n",
              "foundation_type                           object\n",
              "roof_type                                 object\n",
              "ground_floor_type                         object\n",
              "other_floor_type                          object\n",
              "position                                  object\n",
              "plan_configuration                        object\n",
              "has_superstructure_adobe_mud               int64\n",
              "has_superstructure_mud_mortar_stone        int64\n",
              "has_superstructure_stone_flag              int64\n",
              "has_superstructure_cement_mortar_stone     int64\n",
              "has_superstructure_mud_mortar_brick        int64\n",
              "has_superstructure_cement_mortar_brick     int64\n",
              "has_superstructure_timber                  int64\n",
              "has_superstructure_bamboo                  int64\n",
              "has_superstructure_rc_non_engineered       int64\n",
              "has_superstructure_rc_engineered           int64\n",
              "has_superstructure_other                   int64\n",
              "legal_ownership_status                    object\n",
              "count_families                             int64\n",
              "has_secondary_use                          int64\n",
              "has_secondary_use_agriculture              int64\n",
              "has_secondary_use_hotel                    int64\n",
              "has_secondary_use_rental                   int64\n",
              "has_secondary_use_institution              int64\n",
              "has_secondary_use_school                   int64\n",
              "has_secondary_use_industry                 int64\n",
              "has_secondary_use_health_post              int64\n",
              "has_secondary_use_gov_office               int64\n",
              "has_secondary_use_use_police               int64\n",
              "has_secondary_use_other                    int64\n",
              "damage_grade                               int64\n",
              "dtype: object"
            ]
          },
          "metadata": {},
          "execution_count": 2
        }
      ]
    },
    {
      "cell_type": "markdown",
      "source": [
        "#BASELINE"
      ],
      "metadata": {
        "id": "raLa98yxS3tU"
      }
    },
    {
      "cell_type": "markdown",
      "source": [
        "##Feature selection"
      ],
      "metadata": {
        "id": "tdESUzFTUp86"
      }
    },
    {
      "cell_type": "code",
      "source": [
        "features_list = []\n",
        "#dff = pd.get_dummies(df)\n",
        "columns_list = list(dff.columns)\n",
        "for i in columns_list:\n",
        "  #and 'has' not in i\n",
        "  #df[i].dtype == 'int64' and\n",
        "  if dff[i].dtype == 'int64' and 'has' not in i:\n",
        "    features_list.append(i) \n",
        "features_list"
      ],
      "metadata": {
        "colab": {
          "base_uri": "https://localhost:8080/"
        },
        "id": "i_J-VF-PUvWE",
        "outputId": "6fbbb545-1b45-4b3b-8535-c0786818206b"
      },
      "execution_count": null,
      "outputs": [
        {
          "output_type": "execute_result",
          "data": {
            "text/plain": [
              "['geo_level_1_id',\n",
              " 'geo_level_2_id',\n",
              " 'geo_level_3_id',\n",
              " 'count_floors_pre_eq',\n",
              " 'age',\n",
              " 'area_percentage',\n",
              " 'height_percentage',\n",
              " 'count_families',\n",
              " 'damage_grade']"
            ]
          },
          "metadata": {},
          "execution_count": 4
        }
      ]
    },
    {
      "cell_type": "markdown",
      "source": [
        "##Train and test split"
      ],
      "metadata": {
        "id": "B5P5fBUQSyN7"
      }
    },
    {
      "cell_type": "code",
      "source": [
        "from sklearn.model_selection import train_test_split\n",
        "features_list.remove('damage_grade')\n",
        "\n",
        "X = dff[features_list]\n",
        "y = dff['damage_grade']\n",
        "X_train, X_test, y_train, y_test = train_test_split( X, y, test_size=0.2, random_state=42)\n",
        "X_train.reset_index(drop = True, inplace = True)\n",
        "X_train.head()"
      ],
      "metadata": {
        "colab": {
          "base_uri": "https://localhost:8080/",
          "height": 206
        },
        "id": "quTuXk6XS1Gv",
        "outputId": "b880609e-bbb7-4b56-90da-39e275aec0c5"
      },
      "execution_count": null,
      "outputs": [
        {
          "output_type": "execute_result",
          "data": {
            "text/plain": [
              "   geo_level_1_id  geo_level_2_id  geo_level_3_id  count_floors_pre_eq  age  \\\n",
              "0              13             257            8352                    3   25   \n",
              "1               6            1076            9202                    3   40   \n",
              "2               7             838           10723                    2   45   \n",
              "3               7             555            2763                    2   30   \n",
              "4              17             682            1039                    3   30   \n",
              "\n",
              "   area_percentage  height_percentage  count_families  \n",
              "0                2                  5               1  \n",
              "1               10                  8               0  \n",
              "2                8                  5               1  \n",
              "3                7                  4               1  \n",
              "4                6                  7               1  "
            ],
            "text/html": [
              "\n",
              "  <div id=\"df-328a140d-784b-4733-a2af-297c95b2dcf2\">\n",
              "    <div class=\"colab-df-container\">\n",
              "      <div>\n",
              "<style scoped>\n",
              "    .dataframe tbody tr th:only-of-type {\n",
              "        vertical-align: middle;\n",
              "    }\n",
              "\n",
              "    .dataframe tbody tr th {\n",
              "        vertical-align: top;\n",
              "    }\n",
              "\n",
              "    .dataframe thead th {\n",
              "        text-align: right;\n",
              "    }\n",
              "</style>\n",
              "<table border=\"1\" class=\"dataframe\">\n",
              "  <thead>\n",
              "    <tr style=\"text-align: right;\">\n",
              "      <th></th>\n",
              "      <th>geo_level_1_id</th>\n",
              "      <th>geo_level_2_id</th>\n",
              "      <th>geo_level_3_id</th>\n",
              "      <th>count_floors_pre_eq</th>\n",
              "      <th>age</th>\n",
              "      <th>area_percentage</th>\n",
              "      <th>height_percentage</th>\n",
              "      <th>count_families</th>\n",
              "    </tr>\n",
              "  </thead>\n",
              "  <tbody>\n",
              "    <tr>\n",
              "      <th>0</th>\n",
              "      <td>13</td>\n",
              "      <td>257</td>\n",
              "      <td>8352</td>\n",
              "      <td>3</td>\n",
              "      <td>25</td>\n",
              "      <td>2</td>\n",
              "      <td>5</td>\n",
              "      <td>1</td>\n",
              "    </tr>\n",
              "    <tr>\n",
              "      <th>1</th>\n",
              "      <td>6</td>\n",
              "      <td>1076</td>\n",
              "      <td>9202</td>\n",
              "      <td>3</td>\n",
              "      <td>40</td>\n",
              "      <td>10</td>\n",
              "      <td>8</td>\n",
              "      <td>0</td>\n",
              "    </tr>\n",
              "    <tr>\n",
              "      <th>2</th>\n",
              "      <td>7</td>\n",
              "      <td>838</td>\n",
              "      <td>10723</td>\n",
              "      <td>2</td>\n",
              "      <td>45</td>\n",
              "      <td>8</td>\n",
              "      <td>5</td>\n",
              "      <td>1</td>\n",
              "    </tr>\n",
              "    <tr>\n",
              "      <th>3</th>\n",
              "      <td>7</td>\n",
              "      <td>555</td>\n",
              "      <td>2763</td>\n",
              "      <td>2</td>\n",
              "      <td>30</td>\n",
              "      <td>7</td>\n",
              "      <td>4</td>\n",
              "      <td>1</td>\n",
              "    </tr>\n",
              "    <tr>\n",
              "      <th>4</th>\n",
              "      <td>17</td>\n",
              "      <td>682</td>\n",
              "      <td>1039</td>\n",
              "      <td>3</td>\n",
              "      <td>30</td>\n",
              "      <td>6</td>\n",
              "      <td>7</td>\n",
              "      <td>1</td>\n",
              "    </tr>\n",
              "  </tbody>\n",
              "</table>\n",
              "</div>\n",
              "      <button class=\"colab-df-convert\" onclick=\"convertToInteractive('df-328a140d-784b-4733-a2af-297c95b2dcf2')\"\n",
              "              title=\"Convert this dataframe to an interactive table.\"\n",
              "              style=\"display:none;\">\n",
              "        \n",
              "  <svg xmlns=\"http://www.w3.org/2000/svg\" height=\"24px\"viewBox=\"0 0 24 24\"\n",
              "       width=\"24px\">\n",
              "    <path d=\"M0 0h24v24H0V0z\" fill=\"none\"/>\n",
              "    <path d=\"M18.56 5.44l.94 2.06.94-2.06 2.06-.94-2.06-.94-.94-2.06-.94 2.06-2.06.94zm-11 1L8.5 8.5l.94-2.06 2.06-.94-2.06-.94L8.5 2.5l-.94 2.06-2.06.94zm10 10l.94 2.06.94-2.06 2.06-.94-2.06-.94-.94-2.06-.94 2.06-2.06.94z\"/><path d=\"M17.41 7.96l-1.37-1.37c-.4-.4-.92-.59-1.43-.59-.52 0-1.04.2-1.43.59L10.3 9.45l-7.72 7.72c-.78.78-.78 2.05 0 2.83L4 21.41c.39.39.9.59 1.41.59.51 0 1.02-.2 1.41-.59l7.78-7.78 2.81-2.81c.8-.78.8-2.07 0-2.86zM5.41 20L4 18.59l7.72-7.72 1.47 1.35L5.41 20z\"/>\n",
              "  </svg>\n",
              "      </button>\n",
              "      \n",
              "  <style>\n",
              "    .colab-df-container {\n",
              "      display:flex;\n",
              "      flex-wrap:wrap;\n",
              "      gap: 12px;\n",
              "    }\n",
              "\n",
              "    .colab-df-convert {\n",
              "      background-color: #E8F0FE;\n",
              "      border: none;\n",
              "      border-radius: 50%;\n",
              "      cursor: pointer;\n",
              "      display: none;\n",
              "      fill: #1967D2;\n",
              "      height: 32px;\n",
              "      padding: 0 0 0 0;\n",
              "      width: 32px;\n",
              "    }\n",
              "\n",
              "    .colab-df-convert:hover {\n",
              "      background-color: #E2EBFA;\n",
              "      box-shadow: 0px 1px 2px rgba(60, 64, 67, 0.3), 0px 1px 3px 1px rgba(60, 64, 67, 0.15);\n",
              "      fill: #174EA6;\n",
              "    }\n",
              "\n",
              "    [theme=dark] .colab-df-convert {\n",
              "      background-color: #3B4455;\n",
              "      fill: #D2E3FC;\n",
              "    }\n",
              "\n",
              "    [theme=dark] .colab-df-convert:hover {\n",
              "      background-color: #434B5C;\n",
              "      box-shadow: 0px 1px 3px 1px rgba(0, 0, 0, 0.15);\n",
              "      filter: drop-shadow(0px 1px 2px rgba(0, 0, 0, 0.3));\n",
              "      fill: #FFFFFF;\n",
              "    }\n",
              "  </style>\n",
              "\n",
              "      <script>\n",
              "        const buttonEl =\n",
              "          document.querySelector('#df-328a140d-784b-4733-a2af-297c95b2dcf2 button.colab-df-convert');\n",
              "        buttonEl.style.display =\n",
              "          google.colab.kernel.accessAllowed ? 'block' : 'none';\n",
              "\n",
              "        async function convertToInteractive(key) {\n",
              "          const element = document.querySelector('#df-328a140d-784b-4733-a2af-297c95b2dcf2');\n",
              "          const dataTable =\n",
              "            await google.colab.kernel.invokeFunction('convertToInteractive',\n",
              "                                                     [key], {});\n",
              "          if (!dataTable) return;\n",
              "\n",
              "          const docLinkHtml = 'Like what you see? Visit the ' +\n",
              "            '<a target=\"_blank\" href=https://colab.research.google.com/notebooks/data_table.ipynb>data table notebook</a>'\n",
              "            + ' to learn more about interactive tables.';\n",
              "          element.innerHTML = '';\n",
              "          dataTable['output_type'] = 'display_data';\n",
              "          await google.colab.output.renderOutput(dataTable, element);\n",
              "          const docLink = document.createElement('div');\n",
              "          docLink.innerHTML = docLinkHtml;\n",
              "          element.appendChild(docLink);\n",
              "        }\n",
              "      </script>\n",
              "    </div>\n",
              "  </div>\n",
              "  "
            ]
          },
          "metadata": {},
          "execution_count": 5
        }
      ]
    },
    {
      "cell_type": "markdown",
      "source": [
        "##KNN"
      ],
      "metadata": {
        "id": "D6Wq88XxTwiS"
      }
    },
    {
      "cell_type": "markdown",
      "source": [
        "###Setting parameters"
      ],
      "metadata": {
        "id": "9pQp_t7PTz_P"
      }
    },
    {
      "cell_type": "code",
      "source": [
        "from sklearn import neighbors\n",
        "from sklearn.model_selection import KFold\n",
        "import matplotlib.pyplot as plt\n",
        "from sklearn.metrics import f1_score\n",
        "import numpy as np\n",
        "\n",
        "cv = KFold(n_splits = 5, shuffle = False)\n",
        "\n",
        "for i, weights in enumerate(['uniform', 'distance']):\n",
        "   total_scores = []\n",
        "   for n_neighbors in range(1,30):\n",
        "       fold_accuracy = []\n",
        "       knn = neighbors.KNeighborsClassifier(n_neighbors, weights=weights, metric='euclidean')\n",
        "       for train_fold, test_fold in cv.split(X_train):\n",
        "          # División train test aleatoria\n",
        "          # train\n",
        "          fx_train = X_train.iloc[train_fold]\n",
        "          fy_train = y_train.iloc[train_fold]\n",
        "          # test\n",
        "          fx_test = X_train.iloc[test_fold]\n",
        "          fy_test = y_train.iloc[test_fold]\n",
        "\n",
        "          # entrenamiento y ejecución del modelo\n",
        "          knn.fit( X = fx_train, y = fy_train)\n",
        "          y_pred = knn.predict(X = fx_test)\n",
        "          # evaluación del modelo\n",
        "          f1 = f1_score(fy_test, y_pred, average = 'micro')\n",
        "          fold_accuracy.append(f1)\n",
        "       total_scores.append(sum(fold_accuracy)/len(fold_accuracy))\n",
        "   \n",
        "   plt.plot(range(1,len(total_scores)+1), total_scores, \n",
        "             marker='o', label=weights)\n",
        "   print ('Max Value ' +  weights + \" : \" +  str(max(total_scores)) +\" (\" + str(np.argmax(total_scores) + 1) + \")\")\n",
        "   plt.ylabel('f1_score')    \n",
        "  \n",
        "plt.legend()\n",
        "plt.show() "
      ],
      "metadata": {
        "id": "j_VIPUsUUMhD",
        "colab": {
          "base_uri": "https://localhost:8080/",
          "height": 300
        },
        "outputId": "e9440809-7bbf-49e4-ef1d-17829301180e"
      },
      "execution_count": null,
      "outputs": [
        {
          "output_type": "stream",
          "name": "stdout",
          "text": [
            "Max Value uniform : 0.703880468150422 (9)\n",
            "Max Value distance : 0.6992853031465847 (20)\n"
          ]
        },
        {
          "output_type": "display_data",
          "data": {
            "text/plain": [
              "<Figure size 432x288 with 1 Axes>"
            ],
            "image/png": "[encoded data removed]"
          },
          "metadata": {
            "needs_background": "light"
          }
        }
      ]
    },
    {
      "cell_type": "markdown",
      "source": [
        "###Prediction"
      ],
      "metadata": {
        "id": "NdrpOMviGAsZ"
      }
    },
    {
      "cell_type": "code",
      "source": [
        "# constructor\n",
        "n_neighbors = 8\n",
        "weights = 'uniform'\n",
        "knn = neighbors.KNeighborsClassifier(n_neighbors= n_neighbors, weights=weights)\n",
        "\n",
        "# fit and predict\n",
        "knn.fit( X = X_train, y = y_train)\n",
        "y_pred = knn.predict(X = X_test)\n",
        "\n",
        "from sklearn import metrics\n",
        "print (\"f1:\", metrics.f1_score(y_pred , y_test, average = 'micro'))"
      ],
      "metadata": {
        "id": "ZomLZvz7F97p",
        "colab": {
          "base_uri": "https://localhost:8080/"
        },
        "outputId": "f8814661-2aee-4871-b595-a0c3230ea7f1"
      },
      "execution_count": null,
      "outputs": [
        {
          "output_type": "stream",
          "name": "stdout",
          "text": [
            "f1: 0.7064331075766006\n"
          ]
        }
      ]
    },
    {
      "cell_type": "markdown",
      "source": [
        "###Prediction visualization"
      ],
      "metadata": {
        "id": "RaiyQvqGGIHJ"
      }
    },
    {
      "cell_type": "code",
      "source": [
        "from sklearn.metrics import confusion_matrix, ConfusionMatrixDisplay\n",
        "cm = confusion_matrix(y_test, y_pred, labels=knn.classes_)\n",
        "disp = ConfusionMatrixDisplay(confusion_matrix=cm, display_labels=knn.classes_)\n",
        "disp.plot()\n",
        "plt.grid(False)\n",
        "disp.figure_.savefig(\"confussion_matrix.pdf\")\n",
        "plt.show()"
      ],
      "metadata": {
        "id": "xI4_xViSaJW4",
        "colab": {
          "base_uri": "https://localhost:8080/",
          "height": 279
        },
        "outputId": "0192f2a9-36d7-4971-fe51-60f64de6c779"
      },
      "execution_count": null,
      "outputs": [
        {
          "output_type": "display_data",
          "data": {
            "text/plain": [
              "<Figure size 432x288 with 2 Axes>"
            ],
            "image/png": "[encoded data removed]"
          },
          "metadata": {
            "needs_background": "light"
          }
        }
      ]
    },
    {
      "cell_type": "code",
      "source": [
        "predictions = knn.predict(df[features_list])\n",
        "my_submission_knn = pd.DataFrame(data=predictions,\n",
        "                             columns=submission_format.columns,\n",
        "                             index=submission_format.index)\n",
        "my_submission_knn.head()"
      ],
      "metadata": {
        "id": "kwIAWYaSHFRn",
        "colab": {
          "base_uri": "https://localhost:8080/",
          "height": 237
        },
        "outputId": "59f16345-e368-4612-883f-0f3cc81db9d7"
      },
      "execution_count": null,
      "outputs": [
        {
          "output_type": "execute_result",
          "data": {
            "text/plain": [
              "             damage_grade\n",
              "building_id              \n",
              "300051                  3\n",
              "99355                   2\n",
              "890251                  2\n",
              "745817                  1\n",
              "421793                  2"
            ],
            "text/html": [
              "\n",
              "  <div id=\"df-be0b899c-f0e6-498d-afc1-376121db6ea7\">\n",
              "    <div class=\"colab-df-container\">\n",
              "      <div>\n",
              "<style scoped>\n",
              "    .dataframe tbody tr th:only-of-type {\n",
              "        vertical-align: middle;\n",
              "    }\n",
              "\n",
              "    .dataframe tbody tr th {\n",
              "        vertical-align: top;\n",
              "    }\n",
              "\n",
              "    .dataframe thead th {\n",
              "        text-align: right;\n",
              "    }\n",
              "</style>\n",
              "<table border=\"1\" class=\"dataframe\">\n",
              "  <thead>\n",
              "    <tr style=\"text-align: right;\">\n",
              "      <th></th>\n",
              "      <th>damage_grade</th>\n",
              "    </tr>\n",
              "    <tr>\n",
              "      <th>building_id</th>\n",
              "      <th></th>\n",
              "    </tr>\n",
              "  </thead>\n",
              "  <tbody>\n",
              "    <tr>\n",
              "      <th>300051</th>\n",
              "      <td>3</td>\n",
              "    </tr>\n",
              "    <tr>\n",
              "      <th>99355</th>\n",
              "      <td>2</td>\n",
              "    </tr>\n",
              "    <tr>\n",
              "      <th>890251</th>\n",
              "      <td>2</td>\n",
              "    </tr>\n",
              "    <tr>\n",
              "      <th>745817</th>\n",
              "      <td>1</td>\n",
              "    </tr>\n",
              "    <tr>\n",
              "      <th>421793</th>\n",
              "      <td>2</td>\n",
              "    </tr>\n",
              "  </tbody>\n",
              "</table>\n",
              "</div>\n",
              "      <button class=\"colab-df-convert\" onclick=\"convertToInteractive('df-be0b899c-f0e6-498d-afc1-376121db6ea7')\"\n",
              "              title=\"Convert this dataframe to an interactive table.\"\n",
              "              style=\"display:none;\">\n",
              "        \n",
              "  <svg xmlns=\"http://www.w3.org/2000/svg\" height=\"24px\"viewBox=\"0 0 24 24\"\n",
              "       width=\"24px\">\n",
              "    <path d=\"M0 0h24v24H0V0z\" fill=\"none\"/>\n",
              "    <path d=\"M18.56 5.44l.94 2.06.94-2.06 2.06-.94-2.06-.94-.94-2.06-.94 2.06-2.06.94zm-11 1L8.5 8.5l.94-2.06 2.06-.94-2.06-.94L8.5 2.5l-.94 2.06-2.06.94zm10 10l.94 2.06.94-2.06 2.06-.94-2.06-.94-.94-2.06-.94 2.06-2.06.94z\"/><path d=\"M17.41 7.96l-1.37-1.37c-.4-.4-.92-.59-1.43-.59-.52 0-1.04.2-1.43.59L10.3 9.45l-7.72 7.72c-.78.78-.78 2.05 0 2.83L4 21.41c.39.39.9.59 1.41.59.51 0 1.02-.2 1.41-.59l7.78-7.78 2.81-2.81c.8-.78.8-2.07 0-2.86zM5.41 20L4 18.59l7.72-7.72 1.47 1.35L5.41 20z\"/>\n",
              "  </svg>\n",
              "      </button>\n",
              "      \n",
              "  <style>\n",
              "    .colab-df-container {\n",
              "      display:flex;\n",
              "      flex-wrap:wrap;\n",
              "      gap: 12px;\n",
              "    }\n",
              "\n",
              "    .colab-df-convert {\n",
              "      background-color: #E8F0FE;\n",
              "      border: none;\n",
              "      border-radius: 50%;\n",
              "      cursor: pointer;\n",
              "      display: none;\n",
              "      fill: #1967D2;\n",
              "      height: 32px;\n",
              "      padding: 0 0 0 0;\n",
              "      width: 32px;\n",
              "    }\n",
              "\n",
              "    .colab-df-convert:hover {\n",
              "      background-color: #E2EBFA;\n",
              "      box-shadow: 0px 1px 2px rgba(60, 64, 67, 0.3), 0px 1px 3px 1px rgba(60, 64, 67, 0.15);\n",
              "      fill: #174EA6;\n",
              "    }\n",
              "\n",
              "    [theme=dark] .colab-df-convert {\n",
              "      background-color: #3B4455;\n",
              "      fill: #D2E3FC;\n",
              "    }\n",
              "\n",
              "    [theme=dark] .colab-df-convert:hover {\n",
              "      background-color: #434B5C;\n",
              "      box-shadow: 0px 1px 3px 1px rgba(0, 0, 0, 0.15);\n",
              "      filter: drop-shadow(0px 1px 2px rgba(0, 0, 0, 0.3));\n",
              "      fill: #FFFFFF;\n",
              "    }\n",
              "  </style>\n",
              "\n",
              "      <script>\n",
              "        const buttonEl =\n",
              "          document.querySelector('#df-be0b899c-f0e6-498d-afc1-376121db6ea7 button.colab-df-convert');\n",
              "        buttonEl.style.display =\n",
              "          google.colab.kernel.accessAllowed ? 'block' : 'none';\n",
              "\n",
              "        async function convertToInteractive(key) {\n",
              "          const element = document.querySelector('#df-be0b899c-f0e6-498d-afc1-376121db6ea7');\n",
              "          const dataTable =\n",
              "            await google.colab.kernel.invokeFunction('convertToInteractive',\n",
              "                                                     [key], {});\n",
              "          if (!dataTable) return;\n",
              "\n",
              "          const docLinkHtml = 'Like what you see? Visit the ' +\n",
              "            '<a target=\"_blank\" href=https://colab.research.google.com/notebooks/data_table.ipynb>data table notebook</a>'\n",
              "            + ' to learn more about interactive tables.';\n",
              "          element.innerHTML = '';\n",
              "          dataTable['output_type'] = 'display_data';\n",
              "          await google.colab.output.renderOutput(dataTable, element);\n",
              "          const docLink = document.createElement('div');\n",
              "          docLink.innerHTML = docLinkHtml;\n",
              "          element.appendChild(docLink);\n",
              "        }\n",
              "      </script>\n",
              "    </div>\n",
              "  </div>\n",
              "  "
            ]
          },
          "metadata": {},
          "execution_count": 11
        }
      ]
    },
    {
      "cell_type": "markdown",
      "source": [
        "##Decision Trees"
      ],
      "metadata": {
        "id": "6tfMuS81WKEI"
      }
    },
    {
      "cell_type": "markdown",
      "source": [
        "###Binary tree"
      ],
      "metadata": {
        "id": "wUHh8yRVWN-x"
      }
    },
    {
      "cell_type": "code",
      "source": [
        "from sklearn.model_selection import KFold\n",
        "import matplotlib.pyplot as plt\n",
        "from sklearn.metrics import f1_score\n",
        "import numpy as np\n",
        "from sklearn import tree\n",
        "\n",
        "cv = KFold(n_splits = 5, shuffle = False)\n",
        "\n",
        "total_scores = []\n",
        "for i in range(1,30):\n",
        "    fold_accuracy = []\n",
        "    dt = tree.DecisionTreeClassifier(max_depth=i)\n",
        "    for train_fold, test_fold in cv.split(X_train):\n",
        "      # División train test aleatoria\n",
        "      # train\n",
        "      fx_train = X_train.iloc[train_fold]\n",
        "      fy_train = y_train.iloc[train_fold]\n",
        "      # test\n",
        "      fx_test = X_train.iloc[test_fold]\n",
        "      fy_test = y_train.iloc[test_fold]\n",
        "\n",
        "      # entrenamiento y ejecución del modelo\n",
        "      dt.fit( X = fx_train, y = fy_train)\n",
        "      y_pred = dt.predict(X = fx_test)\n",
        "      # evaluación del modelo\n",
        "      mae = f1_score(fy_test, y_pred, average = 'micro')\n",
        "      fold_accuracy.append(mae)\n",
        "    total_scores.append(sum(fold_accuracy)/len(fold_accuracy))\n",
        "\n",
        "plt.plot(range(1,len(total_scores)+1), total_scores, \n",
        "          marker='o', label=weights)\n",
        "print ('Max Value ' +  weights + \" : \" +  str(max(total_scores)) +\" (\" + str(np.argmax(total_scores) + 1) + \")\")\n",
        "plt.ylabel('f1_score')      \n",
        "    \n",
        "\n",
        "plt.legend()\n",
        "plt.show() "
      ],
      "metadata": {
        "id": "tutzZlb_WMOp",
        "colab": {
          "base_uri": "https://localhost:8080/",
          "height": 282
        },
        "outputId": "b2b7523f-2f25-4d1d-aadf-c7d486013e6b"
      },
      "execution_count": null,
      "outputs": [
        {
          "output_type": "stream",
          "name": "stdout",
          "text": [
            "Max Value uniform : 0.6851160782808903 (14)\n"
          ]
        },
        {
          "output_type": "display_data",
          "data": {
            "text/plain": [
              "<Figure size 432x288 with 1 Axes>"
            ],
            "image/png": "[encoded data removed]"
          },
          "metadata": {
            "needs_background": "light"
          }
        }
      ]
    },
    {
      "cell_type": "markdown",
      "source": [
        "###Construction"
      ],
      "metadata": {
        "id": "oKe4vRIinVoY"
      }
    },
    {
      "cell_type": "code",
      "source": [
        "classifier = tree.DecisionTreeClassifier(criterion='gini', max_depth=3, random_state=0)\n",
        "classifier.fit(X_train, y_train)\n",
        "\n",
        "print ('Feature Relevances')\n",
        "pd.DataFrame({'Attributes': features_list,\n",
        "              'Decision Tree': classifier.feature_importances_})"
      ],
      "metadata": {
        "id": "gAl1whalWtpz",
        "colab": {
          "base_uri": "https://localhost:8080/",
          "height": 318
        },
        "outputId": "a82dbc82-b3ac-4e05-faef-f487e4dbdc8c"
      },
      "execution_count": null,
      "outputs": [
        {
          "output_type": "stream",
          "name": "stdout",
          "text": [
            "Feature Relevances\n"
          ]
        },
        {
          "output_type": "execute_result",
          "data": {
            "text/plain": [
              "            Attributes  Decision Tree\n",
              "0       geo_level_1_id       0.947141\n",
              "1       geo_level_2_id       0.000000\n",
              "2       geo_level_3_id       0.000000\n",
              "3  count_floors_pre_eq       0.000000\n",
              "4                  age       0.026683\n",
              "5      area_percentage       0.000000\n",
              "6    height_percentage       0.026176\n",
              "7       count_families       0.000000"
            ],
            "text/html": [
              "\n",
              "  <div id=\"df-f08f2ea2-9bfe-460b-8f7c-50e8608dfafd\">\n",
              "    <div class=\"colab-df-container\">\n",
              "      <div>\n",
              "<style scoped>\n",
              "    .dataframe tbody tr th:only-of-type {\n",
              "        vertical-align: middle;\n",
              "    }\n",
              "\n",
              "    .dataframe tbody tr th {\n",
              "        vertical-align: top;\n",
              "    }\n",
              "\n",
              "    .dataframe thead th {\n",
              "        text-align: right;\n",
              "    }\n",
              "</style>\n",
              "<table border=\"1\" class=\"dataframe\">\n",
              "  <thead>\n",
              "    <tr style=\"text-align: right;\">\n",
              "      <th></th>\n",
              "      <th>Attributes</th>\n",
              "      <th>Decision Tree</th>\n",
              "    </tr>\n",
              "  </thead>\n",
              "  <tbody>\n",
              "    <tr>\n",
              "      <th>0</th>\n",
              "      <td>geo_level_1_id</td>\n",
              "      <td>0.947141</td>\n",
              "    </tr>\n",
              "    <tr>\n",
              "      <th>1</th>\n",
              "      <td>geo_level_2_id</td>\n",
              "      <td>0.000000</td>\n",
              "    </tr>\n",
              "    <tr>\n",
              "      <th>2</th>\n",
              "      <td>geo_level_3_id</td>\n",
              "      <td>0.000000</td>\n",
              "    </tr>\n",
              "    <tr>\n",
              "      <th>3</th>\n",
              "      <td>count_floors_pre_eq</td>\n",
              "      <td>0.000000</td>\n",
              "    </tr>\n",
              "    <tr>\n",
              "      <th>4</th>\n",
              "      <td>age</td>\n",
              "      <td>0.026683</td>\n",
              "    </tr>\n",
              "    <tr>\n",
              "      <th>5</th>\n",
              "      <td>area_percentage</td>\n",
              "      <td>0.000000</td>\n",
              "    </tr>\n",
              "    <tr>\n",
              "      <th>6</th>\n",
              "      <td>height_percentage</td>\n",
              "      <td>0.026176</td>\n",
              "    </tr>\n",
              "    <tr>\n",
              "      <th>7</th>\n",
              "      <td>count_families</td>\n",
              "      <td>0.000000</td>\n",
              "    </tr>\n",
              "  </tbody>\n",
              "</table>\n",
              "</div>\n",
              "      <button class=\"colab-df-convert\" onclick=\"convertToInteractive('df-f08f2ea2-9bfe-460b-8f7c-50e8608dfafd')\"\n",
              "              title=\"Convert this dataframe to an interactive table.\"\n",
              "              style=\"display:none;\">\n",
              "        \n",
              "  <svg xmlns=\"http://www.w3.org/2000/svg\" height=\"24px\"viewBox=\"0 0 24 24\"\n",
              "       width=\"24px\">\n",
              "    <path d=\"M0 0h24v24H0V0z\" fill=\"none\"/>\n",
              "    <path d=\"M18.56 5.44l.94 2.06.94-2.06 2.06-.94-2.06-.94-.94-2.06-.94 2.06-2.06.94zm-11 1L8.5 8.5l.94-2.06 2.06-.94-2.06-.94L8.5 2.5l-.94 2.06-2.06.94zm10 10l.94 2.06.94-2.06 2.06-.94-2.06-.94-.94-2.06-.94 2.06-2.06.94z\"/><path d=\"M17.41 7.96l-1.37-1.37c-.4-.4-.92-.59-1.43-.59-.52 0-1.04.2-1.43.59L10.3 9.45l-7.72 7.72c-.78.78-.78 2.05 0 2.83L4 21.41c.39.39.9.59 1.41.59.51 0 1.02-.2 1.41-.59l7.78-7.78 2.81-2.81c.8-.78.8-2.07 0-2.86zM5.41 20L4 18.59l7.72-7.72 1.47 1.35L5.41 20z\"/>\n",
              "  </svg>\n",
              "      </button>\n",
              "      \n",
              "  <style>\n",
              "    .colab-df-container {\n",
              "      display:flex;\n",
              "      flex-wrap:wrap;\n",
              "      gap: 12px;\n",
              "    }\n",
              "\n",
              "    .colab-df-convert {\n",
              "      background-color: #E8F0FE;\n",
              "      border: none;\n",
              "      border-radius: 50%;\n",
              "      cursor: pointer;\n",
              "      display: none;\n",
              "      fill: #1967D2;\n",
              "      height: 32px;\n",
              "      padding: 0 0 0 0;\n",
              "      width: 32px;\n",
              "    }\n",
              "\n",
              "    .colab-df-convert:hover {\n",
              "      background-color: #E2EBFA;\n",
              "      box-shadow: 0px 1px 2px rgba(60, 64, 67, 0.3), 0px 1px 3px 1px rgba(60, 64, 67, 0.15);\n",
              "      fill: #174EA6;\n",
              "    }\n",
              "\n",
              "    [theme=dark] .colab-df-convert {\n",
              "      background-color: #3B4455;\n",
              "      fill: #D2E3FC;\n",
              "    }\n",
              "\n",
              "    [theme=dark] .colab-df-convert:hover {\n",
              "      background-color: #434B5C;\n",
              "      box-shadow: 0px 1px 3px 1px rgba(0, 0, 0, 0.15);\n",
              "      filter: drop-shadow(0px 1px 2px rgba(0, 0, 0, 0.3));\n",
              "      fill: #FFFFFF;\n",
              "    }\n",
              "  </style>\n",
              "\n",
              "      <script>\n",
              "        const buttonEl =\n",
              "          document.querySelector('#df-f08f2ea2-9bfe-460b-8f7c-50e8608dfafd button.colab-df-convert');\n",
              "        buttonEl.style.display =\n",
              "          google.colab.kernel.accessAllowed ? 'block' : 'none';\n",
              "\n",
              "        async function convertToInteractive(key) {\n",
              "          const element = document.querySelector('#df-f08f2ea2-9bfe-460b-8f7c-50e8608dfafd');\n",
              "          const dataTable =\n",
              "            await google.colab.kernel.invokeFunction('convertToInteractive',\n",
              "                                                     [key], {});\n",
              "          if (!dataTable) return;\n",
              "\n",
              "          const docLinkHtml = 'Like what you see? Visit the ' +\n",
              "            '<a target=\"_blank\" href=https://colab.research.google.com/notebooks/data_table.ipynb>data table notebook</a>'\n",
              "            + ' to learn more about interactive tables.';\n",
              "          element.innerHTML = '';\n",
              "          dataTable['output_type'] = 'display_data';\n",
              "          await google.colab.output.renderOutput(dataTable, element);\n",
              "          const docLink = document.createElement('div');\n",
              "          docLink.innerHTML = docLinkHtml;\n",
              "          element.appendChild(docLink);\n",
              "        }\n",
              "      </script>\n",
              "    </div>\n",
              "  </div>\n",
              "  "
            ]
          },
          "metadata": {},
          "execution_count": 14
        }
      ]
    },
    {
      "cell_type": "code",
      "source": [
        "from IPython.display import Image\n",
        "from sklearn import tree\n",
        "from io import StringIO\n",
        "\n",
        "# https://pypi.python.org/pypi/pydot\n",
        "!apt-get -qq install -y graphviz && pip install -q pydot\n",
        "import pydot\n",
        "\n",
        "dot_data = StringIO()\n",
        "#tree.export_graphviz(clf, out_file=dot_data, feature_names=list(spy.drop(['CLASIFICADOR'], axis=1)))\n",
        "tree.export_graphviz(classifier, out_file = dot_data, proportion = True, feature_names=features_list, rounded = True, filled = True)\n",
        "\n",
        "graph = pydot.graph_from_dot_data(dot_data.getvalue())\n",
        "Image(graph[0].create_png())"
      ],
      "metadata": {
        "id": "4IhUd5kIWvYE",
        "colab": {
          "base_uri": "https://localhost:8080/",
          "height": 259
        },
        "outputId": "4467384c-4a41-4acf-da63-fb955c6de3f9"
      },
      "execution_count": null,
      "outputs": [
        {
          "output_type": "execute_result",
          "data": {
            "image/png": "[encoded data removed]",
            "text/plain": [
              "<IPython.core.display.Image object>"
            ]
          },
          "metadata": {},
          "execution_count": 15
        }
      ]
    },
    {
      "cell_type": "markdown",
      "source": [
        "###Prediction"
      ],
      "metadata": {
        "id": "-mrzhdUCndAn"
      }
    },
    {
      "cell_type": "code",
      "source": [
        "y_pred = dt.predict(X_test)\n",
        "\n",
        "from sklearn import metrics\n",
        "print (\"f1:\", metrics.f1_score(y_pred , y_test, average = 'micro'))"
      ],
      "metadata": {
        "id": "UrArLvCVXL6v",
        "colab": {
          "base_uri": "https://localhost:8080/"
        },
        "outputId": "73068525-5bde-4ac4-b9c9-4563062a20d2"
      },
      "execution_count": null,
      "outputs": [
        {
          "output_type": "stream",
          "name": "stdout",
          "text": [
            "f1: 0.6435601772797912\n"
          ]
        }
      ]
    },
    {
      "cell_type": "code",
      "source": [
        "predictions = dt.predict(df[features_list])\n",
        "my_submission_dt = pd.DataFrame(data=predictions,\n",
        "                             columns=submission_format.columns,\n",
        "                             index=submission_format.index)\n",
        "my_submission_dt.head()"
      ],
      "metadata": {
        "id": "XQS6nmJqJZ9b",
        "colab": {
          "base_uri": "https://localhost:8080/",
          "height": 237
        },
        "outputId": "e99fda16-a469-4254-f553-9430b11b58ba"
      },
      "execution_count": null,
      "outputs": [
        {
          "output_type": "execute_result",
          "data": {
            "text/plain": [
              "             damage_grade\n",
              "building_id              \n",
              "300051                  3\n",
              "99355                   2\n",
              "890251                  2\n",
              "745817                  1\n",
              "421793                  3"
            ],
            "text/html": [
              "\n",
              "  <div id=\"df-806b7800-dcee-4adf-9747-3613bfc1049a\">\n",
              "    <div class=\"colab-df-container\">\n",
              "      <div>\n",
              "<style scoped>\n",
              "    .dataframe tbody tr th:only-of-type {\n",
              "        vertical-align: middle;\n",
              "    }\n",
              "\n",
              "    .dataframe tbody tr th {\n",
              "        vertical-align: top;\n",
              "    }\n",
              "\n",
              "    .dataframe thead th {\n",
              "        text-align: right;\n",
              "    }\n",
              "</style>\n",
              "<table border=\"1\" class=\"dataframe\">\n",
              "  <thead>\n",
              "    <tr style=\"text-align: right;\">\n",
              "      <th></th>\n",
              "      <th>damage_grade</th>\n",
              "    </tr>\n",
              "    <tr>\n",
              "      <th>building_id</th>\n",
              "      <th></th>\n",
              "    </tr>\n",
              "  </thead>\n",
              "  <tbody>\n",
              "    <tr>\n",
              "      <th>300051</th>\n",
              "      <td>3</td>\n",
              "    </tr>\n",
              "    <tr>\n",
              "      <th>99355</th>\n",
              "      <td>2</td>\n",
              "    </tr>\n",
              "    <tr>\n",
              "      <th>890251</th>\n",
              "      <td>2</td>\n",
              "    </tr>\n",
              "    <tr>\n",
              "      <th>745817</th>\n",
              "      <td>1</td>\n",
              "    </tr>\n",
              "    <tr>\n",
              "      <th>421793</th>\n",
              "      <td>3</td>\n",
              "    </tr>\n",
              "  </tbody>\n",
              "</table>\n",
              "</div>\n",
              "      <button class=\"colab-df-convert\" onclick=\"convertToInteractive('df-806b7800-dcee-4adf-9747-3613bfc1049a')\"\n",
              "              title=\"Convert this dataframe to an interactive table.\"\n",
              "              style=\"display:none;\">\n",
              "        \n",
              "  <svg xmlns=\"http://www.w3.org/2000/svg\" height=\"24px\"viewBox=\"0 0 24 24\"\n",
              "       width=\"24px\">\n",
              "    <path d=\"M0 0h24v24H0V0z\" fill=\"none\"/>\n",
              "    <path d=\"M18.56 5.44l.94 2.06.94-2.06 2.06-.94-2.06-.94-.94-2.06-.94 2.06-2.06.94zm-11 1L8.5 8.5l.94-2.06 2.06-.94-2.06-.94L8.5 2.5l-.94 2.06-2.06.94zm10 10l.94 2.06.94-2.06 2.06-.94-2.06-.94-.94-2.06-.94 2.06-2.06.94z\"/><path d=\"M17.41 7.96l-1.37-1.37c-.4-.4-.92-.59-1.43-.59-.52 0-1.04.2-1.43.59L10.3 9.45l-7.72 7.72c-.78.78-.78 2.05 0 2.83L4 21.41c.39.39.9.59 1.41.59.51 0 1.02-.2 1.41-.59l7.78-7.78 2.81-2.81c.8-.78.8-2.07 0-2.86zM5.41 20L4 18.59l7.72-7.72 1.47 1.35L5.41 20z\"/>\n",
              "  </svg>\n",
              "      </button>\n",
              "      \n",
              "  <style>\n",
              "    .colab-df-container {\n",
              "      display:flex;\n",
              "      flex-wrap:wrap;\n",
              "      gap: 12px;\n",
              "    }\n",
              "\n",
              "    .colab-df-convert {\n",
              "      background-color: #E8F0FE;\n",
              "      border: none;\n",
              "      border-radius: 50%;\n",
              "      cursor: pointer;\n",
              "      display: none;\n",
              "      fill: #1967D2;\n",
              "      height: 32px;\n",
              "      padding: 0 0 0 0;\n",
              "      width: 32px;\n",
              "    }\n",
              "\n",
              "    .colab-df-convert:hover {\n",
              "      background-color: #E2EBFA;\n",
              "      box-shadow: 0px 1px 2px rgba(60, 64, 67, 0.3), 0px 1px 3px 1px rgba(60, 64, 67, 0.15);\n",
              "      fill: #174EA6;\n",
              "    }\n",
              "\n",
              "    [theme=dark] .colab-df-convert {\n",
              "      background-color: #3B4455;\n",
              "      fill: #D2E3FC;\n",
              "    }\n",
              "\n",
              "    [theme=dark] .colab-df-convert:hover {\n",
              "      background-color: #434B5C;\n",
              "      box-shadow: 0px 1px 3px 1px rgba(0, 0, 0, 0.15);\n",
              "      filter: drop-shadow(0px 1px 2px rgba(0, 0, 0, 0.3));\n",
              "      fill: #FFFFFF;\n",
              "    }\n",
              "  </style>\n",
              "\n",
              "      <script>\n",
              "        const buttonEl =\n",
              "          document.querySelector('#df-806b7800-dcee-4adf-9747-3613bfc1049a button.colab-df-convert');\n",
              "        buttonEl.style.display =\n",
              "          google.colab.kernel.accessAllowed ? 'block' : 'none';\n",
              "\n",
              "        async function convertToInteractive(key) {\n",
              "          const element = document.querySelector('#df-806b7800-dcee-4adf-9747-3613bfc1049a');\n",
              "          const dataTable =\n",
              "            await google.colab.kernel.invokeFunction('convertToInteractive',\n",
              "                                                     [key], {});\n",
              "          if (!dataTable) return;\n",
              "\n",
              "          const docLinkHtml = 'Like what you see? Visit the ' +\n",
              "            '<a target=\"_blank\" href=https://colab.research.google.com/notebooks/data_table.ipynb>data table notebook</a>'\n",
              "            + ' to learn more about interactive tables.';\n",
              "          element.innerHTML = '';\n",
              "          dataTable['output_type'] = 'display_data';\n",
              "          await google.colab.output.renderOutput(dataTable, element);\n",
              "          const docLink = document.createElement('div');\n",
              "          docLink.innerHTML = docLinkHtml;\n",
              "          element.appendChild(docLink);\n",
              "        }\n",
              "      </script>\n",
              "    </div>\n",
              "  </div>\n",
              "  "
            ]
          },
          "metadata": {},
          "execution_count": 17
        }
      ]
    },
    {
      "cell_type": "markdown",
      "source": [
        "#OPTIMIZED MODEL"
      ],
      "metadata": {
        "id": "9X7-6FGQnhJv"
      }
    },
    {
      "cell_type": "markdown",
      "source": [
        "##Hyperparameter optimization"
      ],
      "metadata": {
        "id": "GiuH7neY-57U"
      }
    },
    {
      "cell_type": "code",
      "source": [
        "from sklearn.model_selection import train_test_split\n",
        "#decision_trees_features = ['age', 'height_percentage', 'geo_level_1_id']\n",
        "#features_list.remove('damage_grade')\n",
        "X = dff[features_list]\n",
        "y = dff['damage_grade']\n",
        "X_train, X_test, y_train, y_test = train_test_split( X, y, test_size=0.33, random_state=42)\n",
        "X_train.reset_index(drop = True, inplace = True)\n",
        "X_train.head()"
      ],
      "metadata": {
        "id": "G1crf-RzYE3n",
        "colab": {
          "base_uri": "https://localhost:8080/",
          "height": 206
        },
        "outputId": "86dd2eb5-277c-494f-acb7-fdb3020277b3"
      },
      "execution_count": null,
      "outputs": [
        {
          "output_type": "execute_result",
          "data": {
            "text/plain": [
              "   geo_level_1_id  geo_level_2_id  geo_level_3_id  count_floors_pre_eq  age  \\\n",
              "0              16             352            4849                    3   15   \n",
              "1              20             158             621                    2   10   \n",
              "2               8             678            3362                    3   35   \n",
              "3               8            1049            9986                    2   15   \n",
              "4              13             606           10986                    2   40   \n",
              "\n",
              "   area_percentage  height_percentage  count_families  \n",
              "0               11                  7               1  \n",
              "1                5                  5               1  \n",
              "2                3                  8               1  \n",
              "3               10                  6               1  \n",
              "4               11                  5               1  "
            ],
            "text/html": [
              "\n",
              "  <div id=\"df-0d859efe-04f3-4a04-bbd0-5c33a6fd4c4e\">\n",
              "    <div class=\"colab-df-container\">\n",
              "      <div>\n",
              "<style scoped>\n",
              "    .dataframe tbody tr th:only-of-type {\n",
              "        vertical-align: middle;\n",
              "    }\n",
              "\n",
              "    .dataframe tbody tr th {\n",
              "        vertical-align: top;\n",
              "    }\n",
              "\n",
              "    .dataframe thead th {\n",
              "        text-align: right;\n",
              "    }\n",
              "</style>\n",
              "<table border=\"1\" class=\"dataframe\">\n",
              "  <thead>\n",
              "    <tr style=\"text-align: right;\">\n",
              "      <th></th>\n",
              "      <th>geo_level_1_id</th>\n",
              "      <th>geo_level_2_id</th>\n",
              "      <th>geo_level_3_id</th>\n",
              "      <th>count_floors_pre_eq</th>\n",
              "      <th>age</th>\n",
              "      <th>area_percentage</th>\n",
              "      <th>height_percentage</th>\n",
              "      <th>count_families</th>\n",
              "    </tr>\n",
              "  </thead>\n",
              "  <tbody>\n",
              "    <tr>\n",
              "      <th>0</th>\n",
              "      <td>16</td>\n",
              "      <td>352</td>\n",
              "      <td>4849</td>\n",
              "      <td>3</td>\n",
              "      <td>15</td>\n",
              "      <td>11</td>\n",
              "      <td>7</td>\n",
              "      <td>1</td>\n",
              "    </tr>\n",
              "    <tr>\n",
              "      <th>1</th>\n",
              "      <td>20</td>\n",
              "      <td>158</td>\n",
              "      <td>621</td>\n",
              "      <td>2</td>\n",
              "      <td>10</td>\n",
              "      <td>5</td>\n",
              "      <td>5</td>\n",
              "      <td>1</td>\n",
              "    </tr>\n",
              "    <tr>\n",
              "      <th>2</th>\n",
              "      <td>8</td>\n",
              "      <td>678</td>\n",
              "      <td>3362</td>\n",
              "      <td>3</td>\n",
              "      <td>35</td>\n",
              "      <td>3</td>\n",
              "      <td>8</td>\n",
              "      <td>1</td>\n",
              "    </tr>\n",
              "    <tr>\n",
              "      <th>3</th>\n",
              "      <td>8</td>\n",
              "      <td>1049</td>\n",
              "      <td>9986</td>\n",
              "      <td>2</td>\n",
              "      <td>15</td>\n",
              "      <td>10</td>\n",
              "      <td>6</td>\n",
              "      <td>1</td>\n",
              "    </tr>\n",
              "    <tr>\n",
              "      <th>4</th>\n",
              "      <td>13</td>\n",
              "      <td>606</td>\n",
              "      <td>10986</td>\n",
              "      <td>2</td>\n",
              "      <td>40</td>\n",
              "      <td>11</td>\n",
              "      <td>5</td>\n",
              "      <td>1</td>\n",
              "    </tr>\n",
              "  </tbody>\n",
              "</table>\n",
              "</div>\n",
              "      <button class=\"colab-df-convert\" onclick=\"convertToInteractive('df-0d859efe-04f3-4a04-bbd0-5c33a6fd4c4e')\"\n",
              "              title=\"Convert this dataframe to an interactive table.\"\n",
              "              style=\"display:none;\">\n",
              "        \n",
              "  <svg xmlns=\"http://www.w3.org/2000/svg\" height=\"24px\"viewBox=\"0 0 24 24\"\n",
              "       width=\"24px\">\n",
              "    <path d=\"M0 0h24v24H0V0z\" fill=\"none\"/>\n",
              "    <path d=\"M18.56 5.44l.94 2.06.94-2.06 2.06-.94-2.06-.94-.94-2.06-.94 2.06-2.06.94zm-11 1L8.5 8.5l.94-2.06 2.06-.94-2.06-.94L8.5 2.5l-.94 2.06-2.06.94zm10 10l.94 2.06.94-2.06 2.06-.94-2.06-.94-.94-2.06-.94 2.06-2.06.94z\"/><path d=\"M17.41 7.96l-1.37-1.37c-.4-.4-.92-.59-1.43-.59-.52 0-1.04.2-1.43.59L10.3 9.45l-7.72 7.72c-.78.78-.78 2.05 0 2.83L4 21.41c.39.39.9.59 1.41.59.51 0 1.02-.2 1.41-.59l7.78-7.78 2.81-2.81c.8-.78.8-2.07 0-2.86zM5.41 20L4 18.59l7.72-7.72 1.47 1.35L5.41 20z\"/>\n",
              "  </svg>\n",
              "      </button>\n",
              "      \n",
              "  <style>\n",
              "    .colab-df-container {\n",
              "      display:flex;\n",
              "      flex-wrap:wrap;\n",
              "      gap: 12px;\n",
              "    }\n",
              "\n",
              "    .colab-df-convert {\n",
              "      background-color: #E8F0FE;\n",
              "      border: none;\n",
              "      border-radius: 50%;\n",
              "      cursor: pointer;\n",
              "      display: none;\n",
              "      fill: #1967D2;\n",
              "      height: 32px;\n",
              "      padding: 0 0 0 0;\n",
              "      width: 32px;\n",
              "    }\n",
              "\n",
              "    .colab-df-convert:hover {\n",
              "      background-color: #E2EBFA;\n",
              "      box-shadow: 0px 1px 2px rgba(60, 64, 67, 0.3), 0px 1px 3px 1px rgba(60, 64, 67, 0.15);\n",
              "      fill: #174EA6;\n",
              "    }\n",
              "\n",
              "    [theme=dark] .colab-df-convert {\n",
              "      background-color: #3B4455;\n",
              "      fill: #D2E3FC;\n",
              "    }\n",
              "\n",
              "    [theme=dark] .colab-df-convert:hover {\n",
              "      background-color: #434B5C;\n",
              "      box-shadow: 0px 1px 3px 1px rgba(0, 0, 0, 0.15);\n",
              "      filter: drop-shadow(0px 1px 2px rgba(0, 0, 0, 0.3));\n",
              "      fill: #FFFFFF;\n",
              "    }\n",
              "  </style>\n",
              "\n",
              "      <script>\n",
              "        const buttonEl =\n",
              "          document.querySelector('#df-0d859efe-04f3-4a04-bbd0-5c33a6fd4c4e button.colab-df-convert');\n",
              "        buttonEl.style.display =\n",
              "          google.colab.kernel.accessAllowed ? 'block' : 'none';\n",
              "\n",
              "        async function convertToInteractive(key) {\n",
              "          const element = document.querySelector('#df-0d859efe-04f3-4a04-bbd0-5c33a6fd4c4e');\n",
              "          const dataTable =\n",
              "            await google.colab.kernel.invokeFunction('convertToInteractive',\n",
              "                                                     [key], {});\n",
              "          if (!dataTable) return;\n",
              "\n",
              "          const docLinkHtml = 'Like what you see? Visit the ' +\n",
              "            '<a target=\"_blank\" href=https://colab.research.google.com/notebooks/data_table.ipynb>data table notebook</a>'\n",
              "            + ' to learn more about interactive tables.';\n",
              "          element.innerHTML = '';\n",
              "          dataTable['output_type'] = 'display_data';\n",
              "          await google.colab.output.renderOutput(dataTable, element);\n",
              "          const docLink = document.createElement('div');\n",
              "          docLink.innerHTML = docLinkHtml;\n",
              "          element.appendChild(docLink);\n",
              "        }\n",
              "      </script>\n",
              "    </div>\n",
              "  </div>\n",
              "  "
            ]
          },
          "metadata": {},
          "execution_count": 19
        }
      ]
    },
    {
      "cell_type": "code",
      "source": [
        "from sklearn.ensemble import RandomForestClassifier\n",
        "from sklearn.model_selection import GridSearchCV\n",
        "from sklearn.model_selection import RandomizedSearchCV\n",
        "classifier = RandomForestClassifier(random_state=0)\n",
        "param_dist = {\"n_estimators\": [4, 8, 16, 32, 64, 128], # Number of trees in random forest\n",
        "              \"max_depth\": [24, 12, 8, 4, 2, None], # Maximum number of levels in tree\n",
        "              \"criterion\": [\"gini\"] #mse, mae\n",
        "              }\n",
        "\n",
        "rnd_regres = GridSearchCV(estimator = classifier, param_grid = param_dist, cv = 2, verbose=4)\n",
        "\n",
        "# Fit the grid search model\n",
        "rnd_regres.fit(X = X_train, y = y_train)\n",
        "rnd_regres.best_params_\n",
        "\n",
        "# choose the best\n",
        "best_random = rnd_regres.best_estimator_\n",
        "\n",
        "# fit\n",
        "best_random.fit( X = X_train, y =y_train)"
      ],
      "metadata": {
        "id": "ehjkfoHSYxhP",
        "colab": {
          "base_uri": "https://localhost:8080/"
        },
        "outputId": "43d81446-bdc5-45e6-df65-87a1fc313c76"
      },
      "execution_count": null,
      "outputs": [
        {
          "output_type": "stream",
          "name": "stdout",
          "text": [
            "Fitting 2 folds for each of 36 candidates, totalling 72 fits\n",
            "[CV 1/2] END criterion=gini, max_depth=24, n_estimators=4;, score=0.644 total time=   0.5s\n",
            "[CV 2/2] END criterion=gini, max_depth=24, n_estimators=4;, score=0.650 total time=   0.5s\n",
            "[CV 1/2] END criterion=gini, max_depth=24, n_estimators=8;, score=0.667 total time=   0.9s\n",
            "[CV 2/2] END criterion=gini, max_depth=24, n_estimators=8;, score=0.668 total time=   0.9s\n",
            "[CV 1/2] END criterion=gini, max_depth=24, n_estimators=16;, score=0.681 total time=   1.8s\n",
            "[CV 2/2] END criterion=gini, max_depth=24, n_estimators=16;, score=0.685 total time=   1.8s\n",
            "[CV 1/2] END criterion=gini, max_depth=24, n_estimators=32;, score=0.689 total time=   3.5s\n",
            "[CV 2/2] END criterion=gini, max_depth=24, n_estimators=32;, score=0.688 total time=   3.8s\n",
            "[CV 1/2] END criterion=gini, max_depth=24, n_estimators=64;, score=0.692 total time=   7.1s\n",
            "[CV 2/2] END criterion=gini, max_depth=24, n_estimators=64;, score=0.691 total time=   7.4s\n",
            "[CV 1/2] END criterion=gini, max_depth=24, n_estimators=128;, score=0.692 total time=  14.7s\n",
            "[CV 2/2] END criterion=gini, max_depth=24, n_estimators=128;, score=0.693 total time=  14.7s\n",
            "[CV 1/2] END criterion=gini, max_depth=12, n_estimators=4;, score=0.657 total time=   0.3s\n",
            "[CV 2/2] END criterion=gini, max_depth=12, n_estimators=4;, score=0.656 total time=   0.3s\n",
            "[CV 1/2] END criterion=gini, max_depth=12, n_estimators=8;, score=0.662 total time=   0.5s\n",
            "[CV 2/2] END criterion=gini, max_depth=12, n_estimators=8;, score=0.660 total time=   0.5s\n",
            "[CV 1/2] END criterion=gini, max_depth=12, n_estimators=16;, score=0.665 total time=   1.1s\n",
            "[CV 2/2] END criterion=gini, max_depth=12, n_estimators=16;, score=0.659 total time=   1.0s\n",
            "[CV 1/2] END criterion=gini, max_depth=12, n_estimators=32;, score=0.662 total time=   2.1s\n",
            "[CV 2/2] END criterion=gini, max_depth=12, n_estimators=32;, score=0.659 total time=   2.0s\n",
            "[CV 1/2] END criterion=gini, max_depth=12, n_estimators=64;, score=0.663 total time=   4.2s\n",
            "[CV 2/2] END criterion=gini, max_depth=12, n_estimators=64;, score=0.659 total time=   4.1s\n",
            "[CV 1/2] END criterion=gini, max_depth=12, n_estimators=128;, score=0.663 total time=   8.3s\n",
            "[CV 2/2] END criterion=gini, max_depth=12, n_estimators=128;, score=0.659 total time=   8.1s\n",
            "[CV 1/2] END criterion=gini, max_depth=8, n_estimators=4;, score=0.643 total time=   0.2s\n",
            "[CV 2/2] END criterion=gini, max_depth=8, n_estimators=4;, score=0.643 total time=   0.2s\n",
            "[CV 1/2] END criterion=gini, max_depth=8, n_estimators=8;, score=0.644 total time=   0.4s\n",
            "[CV 2/2] END criterion=gini, max_depth=8, n_estimators=8;, score=0.641 total time=   0.4s\n",
            "[CV 1/2] END criterion=gini, max_depth=8, n_estimators=16;, score=0.645 total time=   0.8s\n",
            "[CV 2/2] END criterion=gini, max_depth=8, n_estimators=16;, score=0.642 total time=   0.8s\n",
            "[CV 1/2] END criterion=gini, max_depth=8, n_estimators=32;, score=0.645 total time=   1.5s\n",
            "[CV 2/2] END criterion=gini, max_depth=8, n_estimators=32;, score=0.641 total time=   1.6s\n",
            "[CV 1/2] END criterion=gini, max_depth=8, n_estimators=64;, score=0.646 total time=   3.3s\n",
            "[CV 2/2] END criterion=gini, max_depth=8, n_estimators=64;, score=0.645 total time=   3.1s\n",
            "[CV 1/2] END criterion=gini, max_depth=8, n_estimators=128;, score=0.645 total time=   6.1s\n",
            "[CV 2/2] END criterion=gini, max_depth=8, n_estimators=128;, score=0.643 total time=   6.4s\n",
            "[CV 1/2] END criterion=gini, max_depth=4, n_estimators=4;, score=0.580 total time=   0.1s\n",
            "[CV 2/2] END criterion=gini, max_depth=4, n_estimators=4;, score=0.575 total time=   0.1s\n",
            "[CV 1/2] END criterion=gini, max_depth=4, n_estimators=8;, score=0.572 total time=   0.3s\n",
            "[CV 2/2] END criterion=gini, max_depth=4, n_estimators=8;, score=0.574 total time=   0.3s\n",
            "[CV 1/2] END criterion=gini, max_depth=4, n_estimators=16;, score=0.576 total time=   0.5s\n",
            "[CV 2/2] END criterion=gini, max_depth=4, n_estimators=16;, score=0.572 total time=   0.5s\n",
            "[CV 1/2] END criterion=gini, max_depth=4, n_estimators=32;, score=0.571 total time=   1.0s\n",
            "[CV 2/2] END criterion=gini, max_depth=4, n_estimators=32;, score=0.571 total time=   1.0s\n",
            "[CV 1/2] END criterion=gini, max_depth=4, n_estimators=64;, score=0.574 total time=   2.1s\n",
            "[CV 2/2] END criterion=gini, max_depth=4, n_estimators=64;, score=0.571 total time=   2.2s\n",
            "[CV 1/2] END criterion=gini, max_depth=4, n_estimators=128;, score=0.573 total time=   4.0s\n",
            "[CV 2/2] END criterion=gini, max_depth=4, n_estimators=128;, score=0.571 total time=   3.9s\n",
            "[CV 1/2] END criterion=gini, max_depth=2, n_estimators=4;, score=0.569 total time=   0.1s\n",
            "[CV 2/2] END criterion=gini, max_depth=2, n_estimators=4;, score=0.569 total time=   0.1s\n",
            "[CV 1/2] END criterion=gini, max_depth=2, n_estimators=8;, score=0.569 total time=   0.2s\n",
            "[CV 2/2] END criterion=gini, max_depth=2, n_estimators=8;, score=0.569 total time=   0.2s\n",
            "[CV 1/2] END criterion=gini, max_depth=2, n_estimators=16;, score=0.569 total time=   0.4s\n",
            "[CV 2/2] END criterion=gini, max_depth=2, n_estimators=16;, score=0.569 total time=   0.5s\n",
            "[CV 1/2] END criterion=gini, max_depth=2, n_estimators=32;, score=0.569 total time=   0.8s\n",
            "[CV 2/2] END criterion=gini, max_depth=2, n_estimators=32;, score=0.569 total time=   0.7s\n",
            "[CV 1/2] END criterion=gini, max_depth=2, n_estimators=64;, score=0.569 total time=   1.5s\n",
            "[CV 2/2] END criterion=gini, max_depth=2, n_estimators=64;, score=0.569 total time=   1.4s\n",
            "[CV 1/2] END criterion=gini, max_depth=2, n_estimators=128;, score=0.569 total time=   2.9s\n",
            "[CV 2/2] END criterion=gini, max_depth=2, n_estimators=128;, score=0.569 total time=   2.8s\n",
            "[CV 1/2] END criterion=gini, max_depth=None, n_estimators=4;, score=0.634 total time=   0.5s\n",
            "[CV 2/2] END criterion=gini, max_depth=None, n_estimators=4;, score=0.640 total time=   0.7s\n",
            "[CV 1/2] END criterion=gini, max_depth=None, n_estimators=8;, score=0.659 total time=   1.0s\n",
            "[CV 2/2] END criterion=gini, max_depth=None, n_estimators=8;, score=0.657 total time=   1.0s\n",
            "[CV 1/2] END criterion=gini, max_depth=None, n_estimators=16;, score=0.674 total time=   2.0s\n",
            "[CV 2/2] END criterion=gini, max_depth=None, n_estimators=16;, score=0.675 total time=   1.9s\n",
            "[CV 1/2] END criterion=gini, max_depth=None, n_estimators=32;, score=0.680 total time=   4.0s\n",
            "[CV 2/2] END criterion=gini, max_depth=None, n_estimators=32;, score=0.680 total time=   4.3s\n",
            "[CV 1/2] END criterion=gini, max_depth=None, n_estimators=64;, score=0.685 total time=   8.1s\n",
            "[CV 2/2] END criterion=gini, max_depth=None, n_estimators=64;, score=0.684 total time=   7.9s\n",
            "[CV 1/2] END criterion=gini, max_depth=None, n_estimators=128;, score=0.687 total time=  16.1s\n",
            "[CV 2/2] END criterion=gini, max_depth=None, n_estimators=128;, score=0.686 total time=  16.1s\n"
          ]
        },
        {
          "output_type": "execute_result",
          "data": {
            "text/plain": [
              "RandomForestClassifier(max_depth=24, n_estimators=128, random_state=0)"
            ]
          },
          "metadata": {},
          "execution_count": 20
        }
      ]
    },
    {
      "cell_type": "markdown",
      "source": [
        "###Prediction"
      ],
      "metadata": {
        "id": "p8BGwhUV_akM"
      }
    },
    {
      "cell_type": "code",
      "source": [
        "from sklearn.metrics import confusion_matrix, ConfusionMatrixDisplay\n",
        "import seaborn as sns; sns.set()\n",
        "import matplotlib.pyplot as plt\n",
        "from sklearn import metrics\n",
        "\n",
        "y_pred = best_random.predict(X = X_test)\n",
        "mat = confusion_matrix(y_test, y_pred)\n",
        "print (\"f1:\", metrics.f1_score(y_pred , y_test, average = 'micro'))\n",
        "sns.heatmap(mat.T, square=True, annot=True, fmt='d', cbar=False)\n",
        "plt.xlabel('true label')\n",
        "plt.ylabel('predicted label');"
      ],
      "metadata": {
        "colab": {
          "base_uri": "https://localhost:8080/",
          "height": 302
        },
        "id": "Ptm_Xp3wbZcY",
        "outputId": "8fc8cf69-9ea0-4991-e7f2-99812ddc4fcc"
      },
      "execution_count": null,
      "outputs": [
        {
          "output_type": "stream",
          "name": "stdout",
          "text": [
            "f1: 0.7023453761090245\n"
          ]
        },
        {
          "output_type": "display_data",
          "data": {
            "text/plain": [
              "<Figure size 432x288 with 1 Axes>"
            ],
            "image/png": "[encoded data removed]"
          },
          "metadata": {}
        }
      ]
    },
    {
      "cell_type": "code",
      "source": [
        "predictions = best_random.predict(df[features_list])\n",
        "my_submission_hyper = pd.DataFrame(data=predictions,\n",
        "                             columns=submission_format.columns,\n",
        "                             index=submission_format.index)\n",
        "my_submission_hyper.head()"
      ],
      "metadata": {
        "colab": {
          "base_uri": "https://localhost:8080/",
          "height": 237
        },
        "id": "FNw40xm1VnLc",
        "outputId": "3ca7eba7-897c-45a9-961e-196c940058e9"
      },
      "execution_count": null,
      "outputs": [
        {
          "output_type": "execute_result",
          "data": {
            "text/plain": [
              "             damage_grade\n",
              "building_id              \n",
              "300051                  3\n",
              "99355                   2\n",
              "890251                  3\n",
              "745817                  1\n",
              "421793                  3"
            ],
            "text/html": [
              "\n",
              "  <div id=\"df-77936338-d73b-46fa-b936-bce0e44b1f25\">\n",
              "    <div class=\"colab-df-container\">\n",
              "      <div>\n",
              "<style scoped>\n",
              "    .dataframe tbody tr th:only-of-type {\n",
              "        vertical-align: middle;\n",
              "    }\n",
              "\n",
              "    .dataframe tbody tr th {\n",
              "        vertical-align: top;\n",
              "    }\n",
              "\n",
              "    .dataframe thead th {\n",
              "        text-align: right;\n",
              "    }\n",
              "</style>\n",
              "<table border=\"1\" class=\"dataframe\">\n",
              "  <thead>\n",
              "    <tr style=\"text-align: right;\">\n",
              "      <th></th>\n",
              "      <th>damage_grade</th>\n",
              "    </tr>\n",
              "    <tr>\n",
              "      <th>building_id</th>\n",
              "      <th></th>\n",
              "    </tr>\n",
              "  </thead>\n",
              "  <tbody>\n",
              "    <tr>\n",
              "      <th>300051</th>\n",
              "      <td>3</td>\n",
              "    </tr>\n",
              "    <tr>\n",
              "      <th>99355</th>\n",
              "      <td>2</td>\n",
              "    </tr>\n",
              "    <tr>\n",
              "      <th>890251</th>\n",
              "      <td>3</td>\n",
              "    </tr>\n",
              "    <tr>\n",
              "      <th>745817</th>\n",
              "      <td>1</td>\n",
              "    </tr>\n",
              "    <tr>\n",
              "      <th>421793</th>\n",
              "      <td>3</td>\n",
              "    </tr>\n",
              "  </tbody>\n",
              "</table>\n",
              "</div>\n",
              "      <button class=\"colab-df-convert\" onclick=\"convertToInteractive('df-77936338-d73b-46fa-b936-bce0e44b1f25')\"\n",
              "              title=\"Convert this dataframe to an interactive table.\"\n",
              "              style=\"display:none;\">\n",
              "        \n",
              "  <svg xmlns=\"http://www.w3.org/2000/svg\" height=\"24px\"viewBox=\"0 0 24 24\"\n",
              "       width=\"24px\">\n",
              "    <path d=\"M0 0h24v24H0V0z\" fill=\"none\"/>\n",
              "    <path d=\"M18.56 5.44l.94 2.06.94-2.06 2.06-.94-2.06-.94-.94-2.06-.94 2.06-2.06.94zm-11 1L8.5 8.5l.94-2.06 2.06-.94-2.06-.94L8.5 2.5l-.94 2.06-2.06.94zm10 10l.94 2.06.94-2.06 2.06-.94-2.06-.94-.94-2.06-.94 2.06-2.06.94z\"/><path d=\"M17.41 7.96l-1.37-1.37c-.4-.4-.92-.59-1.43-.59-.52 0-1.04.2-1.43.59L10.3 9.45l-7.72 7.72c-.78.78-.78 2.05 0 2.83L4 21.41c.39.39.9.59 1.41.59.51 0 1.02-.2 1.41-.59l7.78-7.78 2.81-2.81c.8-.78.8-2.07 0-2.86zM5.41 20L4 18.59l7.72-7.72 1.47 1.35L5.41 20z\"/>\n",
              "  </svg>\n",
              "      </button>\n",
              "      \n",
              "  <style>\n",
              "    .colab-df-container {\n",
              "      display:flex;\n",
              "      flex-wrap:wrap;\n",
              "      gap: 12px;\n",
              "    }\n",
              "\n",
              "    .colab-df-convert {\n",
              "      background-color: #E8F0FE;\n",
              "      border: none;\n",
              "      border-radius: 50%;\n",
              "      cursor: pointer;\n",
              "      display: none;\n",
              "      fill: #1967D2;\n",
              "      height: 32px;\n",
              "      padding: 0 0 0 0;\n",
              "      width: 32px;\n",
              "    }\n",
              "\n",
              "    .colab-df-convert:hover {\n",
              "      background-color: #E2EBFA;\n",
              "      box-shadow: 0px 1px 2px rgba(60, 64, 67, 0.3), 0px 1px 3px 1px rgba(60, 64, 67, 0.15);\n",
              "      fill: #174EA6;\n",
              "    }\n",
              "\n",
              "    [theme=dark] .colab-df-convert {\n",
              "      background-color: #3B4455;\n",
              "      fill: #D2E3FC;\n",
              "    }\n",
              "\n",
              "    [theme=dark] .colab-df-convert:hover {\n",
              "      background-color: #434B5C;\n",
              "      box-shadow: 0px 1px 3px 1px rgba(0, 0, 0, 0.15);\n",
              "      filter: drop-shadow(0px 1px 2px rgba(0, 0, 0, 0.3));\n",
              "      fill: #FFFFFF;\n",
              "    }\n",
              "  </style>\n",
              "\n",
              "      <script>\n",
              "        const buttonEl =\n",
              "          document.querySelector('#df-77936338-d73b-46fa-b936-bce0e44b1f25 button.colab-df-convert');\n",
              "        buttonEl.style.display =\n",
              "          google.colab.kernel.accessAllowed ? 'block' : 'none';\n",
              "\n",
              "        async function convertToInteractive(key) {\n",
              "          const element = document.querySelector('#df-77936338-d73b-46fa-b936-bce0e44b1f25');\n",
              "          const dataTable =\n",
              "            await google.colab.kernel.invokeFunction('convertToInteractive',\n",
              "                                                     [key], {});\n",
              "          if (!dataTable) return;\n",
              "\n",
              "          const docLinkHtml = 'Like what you see? Visit the ' +\n",
              "            '<a target=\"_blank\" href=https://colab.research.google.com/notebooks/data_table.ipynb>data table notebook</a>'\n",
              "            + ' to learn more about interactive tables.';\n",
              "          element.innerHTML = '';\n",
              "          dataTable['output_type'] = 'display_data';\n",
              "          await google.colab.output.renderOutput(dataTable, element);\n",
              "          const docLink = document.createElement('div');\n",
              "          docLink.innerHTML = docLinkHtml;\n",
              "          element.appendChild(docLink);\n",
              "        }\n",
              "      </script>\n",
              "    </div>\n",
              "  </div>\n",
              "  "
            ]
          },
          "metadata": {},
          "execution_count": 22
        }
      ]
    },
    {
      "cell_type": "markdown",
      "source": [
        "#Submission file"
      ],
      "metadata": {
        "id": "8VlzKUD7_eqv"
      }
    },
    {
      "cell_type": "code",
      "source": [
        "my_submission_knn.to_csv('submission_knn.csv')\n",
        "my_submission_dt.to_csv('submission_dt.csv')\n",
        "my_submission_hyper.to_csv('submission_hyper.csv')\n",
        "\n",
        "from google.colab import files\n",
        "\n",
        "files.download('submission_knn.csv')\n",
        "files.download('submission_dt.csv')\n",
        "files.download('submission_hyper.csv')\n"
      ],
      "metadata": {
        "id": "m7sLtJLj_nW3",
        "colab": {
          "base_uri": "https://localhost:8080/",
          "height": 17
        },
        "outputId": "5e82c80c-cee5-41b1-819a-cf0aa905d45e"
      },
      "execution_count": null,
      "outputs": [
        {
          "output_type": "display_data",
          "data": {
            "text/plain": [
              "<IPython.core.display.Javascript object>"
            ],
            "application/javascript": [
              "\n",
              "    async function download(id, filename, size) {\n",
              "      if (!google.colab.kernel.accessAllowed) {\n",
              "        return;\n",
              "      }\n",
              "      const div = document.createElement('div');\n",
              "      const label = document.createElement('label');\n",
              "      label.textContent = `Downloading \"${filename}\": `;\n",
              "      div.appendChild(label);\n",
              "      const progress = document.createElement('progress');\n",
              "      progress.max = size;\n",
              "      div.appendChild(progress);\n",
              "      document.body.appendChild(div);\n",
              "\n",
              "      const buffers = [];\n",
              "      let downloaded = 0;\n",
              "\n",
              "      const channel = await google.colab.kernel.comms.open(id);\n",
              "      // Send a message to notify the kernel that we're ready.\n",
              "      channel.send({})\n",
              "\n",
              "      for await (const message of channel.messages) {\n",
              "        // Send a message to notify the kernel that we're ready.\n",
              "        channel.send({})\n",
              "        if (message.buffers) {\n",
              "          for (const buffer of message.buffers) {\n",
              "            buffers.push(buffer);\n",
              "            downloaded += buffer.byteLength;\n",
              "            progress.value = downloaded;\n",
              "          }\n",
              "        }\n",
              "      }\n",
              "      const blob = new Blob(buffers, {type: 'application/binary'});\n",
              "      const a = document.createElement('a');\n",
              "      a.href = window.URL.createObjectURL(blob);\n",
              "      a.download = filename;\n",
              "      div.appendChild(a);\n",
              "      a.click();\n",
              "      div.remove();\n",
              "    }\n",
              "  "
            ]
          },
          "metadata": {}
        },
        {
          "output_type": "display_data",
          "data": {
            "text/plain": [
              "<IPython.core.display.Javascript object>"
            ],
            "application/javascript": [
              "download(\"download_452a5e8c-499b-4af6-a995-c7e31aceedbc\", \"submission_knn.csv\", 777012)"
            ]
          },
          "metadata": {}
        },
        {
          "output_type": "display_data",
          "data": {
            "text/plain": [
              "<IPython.core.display.Javascript object>"
            ],
            "application/javascript": [
              "\n",
              "    async function download(id, filename, size) {\n",
              "      if (!google.colab.kernel.accessAllowed) {\n",
              "        return;\n",
              "      }\n",
              "      const div = document.createElement('div');\n",
              "      const label = document.createElement('label');\n",
              "      label.textContent = `Downloading \"${filename}\": `;\n",
              "      div.appendChild(label);\n",
              "      const progress = document.createElement('progress');\n",
              "      progress.max = size;\n",
              "      div.appendChild(progress);\n",
              "      document.body.appendChild(div);\n",
              "\n",
              "      const buffers = [];\n",
              "      let downloaded = 0;\n",
              "\n",
              "      const channel = await google.colab.kernel.comms.open(id);\n",
              "      // Send a message to notify the kernel that we're ready.\n",
              "      channel.send({})\n",
              "\n",
              "      for await (const message of channel.messages) {\n",
              "        // Send a message to notify the kernel that we're ready.\n",
              "        channel.send({})\n",
              "        if (message.buffers) {\n",
              "          for (const buffer of message.buffers) {\n",
              "            buffers.push(buffer);\n",
              "            downloaded += buffer.byteLength;\n",
              "            progress.value = downloaded;\n",
              "          }\n",
              "        }\n",
              "      }\n",
              "      const blob = new Blob(buffers, {type: 'application/binary'});\n",
              "      const a = document.createElement('a');\n",
              "      a.href = window.URL.createObjectURL(blob);\n",
              "      a.download = filename;\n",
              "      div.appendChild(a);\n",
              "      a.click();\n",
              "      div.remove();\n",
              "    }\n",
              "  "
            ]
          },
          "metadata": {}
        },
        {
          "output_type": "display_data",
          "data": {
            "text/plain": [
              "<IPython.core.display.Javascript object>"
            ],
            "application/javascript": [
              "download(\"download_41f0f0e3-87c9-4dde-82d0-1f52c0613b92\", \"submission_dt.csv\", 777012)"
            ]
          },
          "metadata": {}
        },
        {
          "output_type": "display_data",
          "data": {
            "text/plain": [
              "<IPython.core.display.Javascript object>"
            ],
            "application/javascript": [
              "\n",
              "    async function download(id, filename, size) {\n",
              "      if (!google.colab.kernel.accessAllowed) {\n",
              "        return;\n",
              "      }\n",
              "      const div = document.createElement('div');\n",
              "      const label = document.createElement('label');\n",
              "      label.textContent = `Downloading \"${filename}\": `;\n",
              "      div.appendChild(label);\n",
              "      const progress = document.createElement('progress');\n",
              "      progress.max = size;\n",
              "      div.appendChild(progress);\n",
              "      document.body.appendChild(div);\n",
              "\n",
              "      const buffers = [];\n",
              "      let downloaded = 0;\n",
              "\n",
              "      const channel = await google.colab.kernel.comms.open(id);\n",
              "      // Send a message to notify the kernel that we're ready.\n",
              "      channel.send({})\n",
              "\n",
              "      for await (const message of channel.messages) {\n",
              "        // Send a message to notify the kernel that we're ready.\n",
              "        channel.send({})\n",
              "        if (message.buffers) {\n",
              "          for (const buffer of message.buffers) {\n",
              "            buffers.push(buffer);\n",
              "            downloaded += buffer.byteLength;\n",
              "            progress.value = downloaded;\n",
              "          }\n",
              "        }\n",
              "      }\n",
              "      const blob = new Blob(buffers, {type: 'application/binary'});\n",
              "      const a = document.createElement('a');\n",
              "      a.href = window.URL.createObjectURL(blob);\n",
              "      a.download = filename;\n",
              "      div.appendChild(a);\n",
              "      a.click();\n",
              "      div.remove();\n",
              "    }\n",
              "  "
            ]
          },
          "metadata": {}
        },
        {
          "output_type": "display_data",
          "data": {
            "text/plain": [
              "<IPython.core.display.Javascript object>"
            ],
            "application/javascript": [
              "download(\"download_343a68fc-76c2-430b-a279-4cccedba614c\", \"submission_hyper.csv\", 777012)"
            ]
          },
          "metadata": {}
        }
      ]
    }
  ]
}